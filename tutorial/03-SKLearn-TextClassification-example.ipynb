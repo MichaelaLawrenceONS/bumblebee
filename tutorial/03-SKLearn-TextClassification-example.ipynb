{
 "cells": [
  {
   "cell_type": "code",
   "execution_count": 1,
   "metadata": {
    "collapsed": true
   },
   "outputs": [],
   "source": [
    "import pandas as pd\n",
    "from sklearn.feature_extraction.text import CountVectorizer\n",
    "from sklearn.feature_extraction.text import TfidfVectorizer\n",
    "from sklearn.feature_extraction.text import TfidfTransformer\n",
    "from nltk import bigrams\n",
    "from nltk import word_tokenize\n",
    "from sklearn.linear_model import LogisticRegression\n",
    "\n"
   ]
  },
  {
   "cell_type": "code",
   "execution_count": 2,
   "metadata": {},
   "outputs": [
    {
     "data": {
      "text/html": [
       "<div>\n",
       "<style>\n",
       "    .dataframe thead tr:only-child th {\n",
       "        text-align: right;\n",
       "    }\n",
       "\n",
       "    .dataframe thead th {\n",
       "        text-align: left;\n",
       "    }\n",
       "\n",
       "    .dataframe tbody tr th {\n",
       "        vertical-align: top;\n",
       "    }\n",
       "</style>\n",
       "<table border=\"1\" class=\"dataframe\">\n",
       "  <thead>\n",
       "    <tr style=\"text-align: right;\">\n",
       "      <th></th>\n",
       "      <th>Unnamed: 0</th>\n",
       "      <th>report status</th>\n",
       "      <th>intro text</th>\n",
       "      <th>Date of inspection visit:</th>\n",
       "      <th>Date of publication:</th>\n",
       "      <th>Inspection report</th>\n",
       "      <th>Summary of findings</th>\n",
       "      <th>Is the service safe?</th>\n",
       "      <th>Is the service effective?</th>\n",
       "      <th>Is the service caring?</th>\n",
       "      <th>...</th>\n",
       "      <th>Is the service safe?.1</th>\n",
       "      <th>Our findings</th>\n",
       "      <th>Is the service effective?.1</th>\n",
       "      <th>Our findings.1</th>\n",
       "      <th>Is the service caring?.1</th>\n",
       "      <th>Our findings.2</th>\n",
       "      <th>Is the service responsive?.1</th>\n",
       "      <th>Our findings.3</th>\n",
       "      <th>Is the service well-led?.1</th>\n",
       "      <th>Our findings.4</th>\n",
       "    </tr>\n",
       "  </thead>\n",
       "  <tbody>\n",
       "    <tr>\n",
       "      <th>0</th>\n",
       "      <td>0</td>\n",
       "      <td>outstanding</td>\n",
       "      <td>Embrace (Geffen) Limited Nunthorpe Oaks  Inspe...</td>\n",
       "      <td>21 February 2017 07 March 2017</td>\n",
       "      <td>24 May 2017  Outstanding     Good       Good ...</td>\n",
       "      <td>24 May 2017</td>\n",
       "      <td>Overall summary  We inspected Nunthorpe Oaks...</td>\n",
       "      <td>The service was safe.  People told us they f...</td>\n",
       "      <td>The service was effective.   Staff had the k...</td>\n",
       "      <td>This service was extremely caring   People w...</td>\n",
       "      <td>...</td>\n",
       "      <td>Good</td>\n",
       "      <td>People and their relatives told us they fel...</td>\n",
       "      <td>Good</td>\n",
       "      <td>People who used the service told us staff p...</td>\n",
       "      <td>Outstanding</td>\n",
       "      <td>People, relatives and professionals praised...</td>\n",
       "      <td>Outstanding</td>\n",
       "      <td>People who used the service and relatives c...</td>\n",
       "      <td>Outstanding</td>\n",
       "      <td>The service was exceptionally well-led. It ...</td>\n",
       "    </tr>\n",
       "    <tr>\n",
       "      <th>1</th>\n",
       "      <td>1</td>\n",
       "      <td>outstanding</td>\n",
       "      <td>Insight Specialist Behavioural Service Ltd Asp...</td>\n",
       "      <td>04 December 2017</td>\n",
       "      <td>09 February 2018  Outstanding     Good       ...</td>\n",
       "      <td>09 February 2018</td>\n",
       "      <td>Overall summary  Aspley House is a residenti...</td>\n",
       "      <td>The service remains Good</td>\n",
       "      <td>The service remains good.</td>\n",
       "      <td>The service was exceptionally caring.  The p...</td>\n",
       "      <td>...</td>\n",
       "      <td>Good</td>\n",
       "      <td>The safety of everyone at the service both ...</td>\n",
       "      <td>Good</td>\n",
       "      <td>Health professionals told us, \"I am always ...</td>\n",
       "      <td>Outstanding</td>\n",
       "      <td>A health and social care professional told ...</td>\n",
       "      <td>Outstanding</td>\n",
       "      <td>People lived active and meaningful lives, t...</td>\n",
       "      <td>Outstanding</td>\n",
       "      <td>Staff told us, \"The philosophy of the provi...</td>\n",
       "    </tr>\n",
       "    <tr>\n",
       "      <th>2</th>\n",
       "      <td>2</td>\n",
       "      <td>outstanding</td>\n",
       "      <td>Miss S G Howard Victoria Lodge Care Home</td>\n",
       "      <td>26 January 2017</td>\n",
       "      <td>22 March 2017  Outstanding     Good       Goo...</td>\n",
       "      <td>11 Victoria Road Acocks Green Birmingham Wes...</td>\n",
       "      <td>Overall summary  This unannounced inspection...</td>\n",
       "      <td>The service was safe  People told us they fe...</td>\n",
       "      <td>The service was effective.   There were arra...</td>\n",
       "      <td>The service was very caring.  People receive...</td>\n",
       "      <td>...</td>\n",
       "      <td>Good</td>\n",
       "      <td>People and relatives all gave us very posit...</td>\n",
       "      <td>Good</td>\n",
       "      <td>People and relatives we spoke with told us ...</td>\n",
       "      <td>Outstanding</td>\n",
       "      <td>People living in Victoria Lodge were happy ...</td>\n",
       "      <td>Good</td>\n",
       "      <td>Relatives told us that the supportive and r...</td>\n",
       "      <td>Outstanding</td>\n",
       "      <td>The registered manager and provider promote...</td>\n",
       "    </tr>\n",
       "    <tr>\n",
       "      <th>3</th>\n",
       "      <td>3</td>\n",
       "      <td>outstanding</td>\n",
       "      <td>Hale Place Care Homes Limited Hale Place Farmh...</td>\n",
       "      <td>04 September 2017 07 September 2017</td>\n",
       "      <td>10 November 2017  Outstanding     Good       ...</td>\n",
       "      <td>79 Old Road East Peckham Tonbridge Kent TN12...</td>\n",
       "      <td>Overall summary  This inspection took place ...</td>\n",
       "      <td>Hale Place Farmhouse was safe.  People were ...</td>\n",
       "      <td>Hale Place Farmhouse was effective.  Staff r...</td>\n",
       "      <td>Outstanding    The service was outstanding i...</td>\n",
       "      <td>...</td>\n",
       "      <td>Good</td>\n",
       "      <td>People told us that they felt safe living a...</td>\n",
       "      <td>Good</td>\n",
       "      <td>People and their relatives spoke positively...</td>\n",
       "      <td>Outstanding</td>\n",
       "      <td>People and their relatives were consistentl...</td>\n",
       "      <td>Outstanding</td>\n",
       "      <td>People were receiving a person centred serv...</td>\n",
       "      <td>Outstanding</td>\n",
       "      <td>People and their relatives were consistentl...</td>\n",
       "    </tr>\n",
       "    <tr>\n",
       "      <th>4</th>\n",
       "      <td>4</td>\n",
       "      <td>outstanding</td>\n",
       "      <td>Healthcare Homes (LSC) Limited Sandown Park Ca...</td>\n",
       "      <td>09 January 2018 10 January 2018</td>\n",
       "      <td>27 February 2018  Outstanding     Good       ...</td>\n",
       "      <td>27 February 2018</td>\n",
       "      <td>Overall summary  Our inspection took place o...</td>\n",
       "      <td>The service was safe.  Effective systems wer...</td>\n",
       "      <td>The service was effective.  People's likes, ...</td>\n",
       "      <td>Outstanding    4 Sandown Park Care Home Insp...</td>\n",
       "      <td>...</td>\n",
       "      <td>Good</td>\n",
       "      <td>People and relatives provided positive feed...</td>\n",
       "      <td>Good</td>\n",
       "      <td>People and relatives told us they felt staf...</td>\n",
       "      <td>Outstanding</td>\n",
       "      <td>The service continued to provide outstandin...</td>\n",
       "      <td>Outstanding</td>\n",
       "      <td>The service continued to provide outstandin...</td>\n",
       "      <td>Outstanding</td>\n",
       "      <td>The service's management and care team were...</td>\n",
       "    </tr>\n",
       "  </tbody>\n",
       "</table>\n",
       "<p>5 rows × 23 columns</p>\n",
       "</div>"
      ],
      "text/plain": [
       "   Unnamed: 0 report status  \\\n",
       "0           0   outstanding   \n",
       "1           1   outstanding   \n",
       "2           2   outstanding   \n",
       "3           3   outstanding   \n",
       "4           4   outstanding   \n",
       "\n",
       "                                          intro text  \\\n",
       "0  Embrace (Geffen) Limited Nunthorpe Oaks  Inspe...   \n",
       "1  Insight Specialist Behavioural Service Ltd Asp...   \n",
       "2         Miss S G Howard Victoria Lodge Care Home     \n",
       "3  Hale Place Care Homes Limited Hale Place Farmh...   \n",
       "4  Healthcare Homes (LSC) Limited Sandown Park Ca...   \n",
       "\n",
       "                Date of inspection visit:  \\\n",
       "0        21 February 2017 07 March 2017     \n",
       "1                      04 December 2017     \n",
       "2                       26 January 2017     \n",
       "3   04 September 2017 07 September 2017     \n",
       "4       09 January 2018 10 January 2018     \n",
       "\n",
       "                                Date of publication:  \\\n",
       "0   24 May 2017  Outstanding     Good       Good ...   \n",
       "1   09 February 2018  Outstanding     Good       ...   \n",
       "2   22 March 2017  Outstanding     Good       Goo...   \n",
       "3   10 November 2017  Outstanding     Good       ...   \n",
       "4   27 February 2018  Outstanding     Good       ...   \n",
       "\n",
       "                                   Inspection report  \\\n",
       "0                                     24 May 2017  \n",
       "   \n",
       "1                                09 February 2018  \n",
       "   \n",
       "2    11 Victoria Road Acocks Green Birmingham Wes...   \n",
       "3    79 Old Road East Peckham Tonbridge Kent TN12...   \n",
       "4                                27 February 2018  \n",
       "   \n",
       "\n",
       "                                 Summary of findings  \\\n",
       "0    Overall summary  We inspected Nunthorpe Oaks...   \n",
       "1    Overall summary  Aspley House is a residenti...   \n",
       "2    Overall summary  This unannounced inspection...   \n",
       "3    Overall summary  This inspection took place ...   \n",
       "4    Overall summary  Our inspection took place o...   \n",
       "\n",
       "                                Is the service safe?  \\\n",
       "0    The service was safe.  People told us they f...   \n",
       "1                         The service remains Good     \n",
       "2    The service was safe  People told us they fe...   \n",
       "3    Hale Place Farmhouse was safe.  People were ...   \n",
       "4    The service was safe.  Effective systems wer...   \n",
       "\n",
       "                           Is the service effective?  \\\n",
       "0    The service was effective.   Staff had the k...   \n",
       "1                        The service remains good.     \n",
       "2    The service was effective.   There were arra...   \n",
       "3    Hale Place Farmhouse was effective.  Staff r...   \n",
       "4    The service was effective.  People's likes, ...   \n",
       "\n",
       "                              Is the service caring?  \\\n",
       "0    This service was extremely caring   People w...   \n",
       "1    The service was exceptionally caring.  The p...   \n",
       "2    The service was very caring.  People receive...   \n",
       "3    Outstanding    The service was outstanding i...   \n",
       "4    Outstanding    4 Sandown Park Care Home Insp...   \n",
       "\n",
       "                         ...                         Is the service safe?.1  \\\n",
       "0                        ...                                         Good     \n",
       "1                        ...                                         Good     \n",
       "2                        ...                                         Good     \n",
       "3                        ...                                         Good     \n",
       "4                        ...                                         Good     \n",
       "\n",
       "                                        Our findings  \\\n",
       "0     People and their relatives told us they fel...   \n",
       "1     The safety of everyone at the service both ...   \n",
       "2     People and relatives all gave us very posit...   \n",
       "3     People told us that they felt safe living a...   \n",
       "4     People and relatives provided positive feed...   \n",
       "\n",
       "  Is the service effective?.1  \\\n",
       "0                      Good     \n",
       "1                      Good     \n",
       "2                      Good     \n",
       "3                      Good     \n",
       "4                      Good     \n",
       "\n",
       "                                      Our findings.1 Is the service caring?.1  \\\n",
       "0     People who used the service told us staff p...            Outstanding     \n",
       "1     Health professionals told us, \"I am always ...            Outstanding     \n",
       "2     People and relatives we spoke with told us ...            Outstanding     \n",
       "3     People and their relatives spoke positively...            Outstanding     \n",
       "4     People and relatives told us they felt staf...            Outstanding     \n",
       "\n",
       "                                      Our findings.2  \\\n",
       "0     People, relatives and professionals praised...   \n",
       "1     A health and social care professional told ...   \n",
       "2     People living in Victoria Lodge were happy ...   \n",
       "3     People and their relatives were consistentl...   \n",
       "4     The service continued to provide outstandin...   \n",
       "\n",
       "  Is the service responsive?.1  \\\n",
       "0                Outstanding     \n",
       "1                Outstanding     \n",
       "2                       Good     \n",
       "3                Outstanding     \n",
       "4                Outstanding     \n",
       "\n",
       "                                      Our findings.3  \\\n",
       "0     People who used the service and relatives c...   \n",
       "1     People lived active and meaningful lives, t...   \n",
       "2     Relatives told us that the supportive and r...   \n",
       "3     People were receiving a person centred serv...   \n",
       "4     The service continued to provide outstandin...   \n",
       "\n",
       "  Is the service well-led?.1  \\\n",
       "0              Outstanding     \n",
       "1              Outstanding     \n",
       "2              Outstanding     \n",
       "3              Outstanding     \n",
       "4              Outstanding     \n",
       "\n",
       "                                      Our findings.4  \n",
       "0     The service was exceptionally well-led. It ...  \n",
       "1     Staff told us, \"The philosophy of the provi...  \n",
       "2     The registered manager and provider promote...  \n",
       "3     People and their relatives were consistentl...  \n",
       "4     The service's management and care team were...  \n",
       "\n",
       "[5 rows x 23 columns]"
      ]
     },
     "execution_count": 2,
     "metadata": {},
     "output_type": "execute_result"
    }
   ],
   "source": [
    "## change to the appropriate path\n",
    "df = pd.read_csv('structured_data.csv',encoding='latin1',sep='\\t') # seperator is \\t as file is tab-delimited\n",
    "df.head()"
   ]
  },
  {
   "cell_type": "code",
   "execution_count": 28,
   "metadata": {
    "collapsed": true
   },
   "outputs": [],
   "source": [
    "#define parameters of count vectorizer\n",
    "vec = CountVectorizer(analyzer=\"word\",stop_words='english',\n",
    "                                   ngram_range=(1, 2),\n",
    "                                   tokenizer=word_tokenize,\n",
    "                                   max_features=10000)\n",
    "\n",
    "\n",
    "lr=LogisticRegression()\n",
    "\n",
    "\n",
    "#define a scikit learn pipeline\n",
    "from sklearn.pipeline import Pipeline\n",
    "bigram_clf = Pipeline([\n",
    "\n",
    "\n",
    "    ('vectorizer', vec),\n",
    "    \n",
    "    ('classifier', lr)     # or any other classifier deemed useful!\n",
    "   \n",
    "])\n",
    "\n",
    "\n",
    "\n",
    "\n",
    "\n",
    "\n",
    "\n",
    "\n"
   ]
  },
  {
   "cell_type": "code",
   "execution_count": 29,
   "metadata": {
    "collapsed": true
   },
   "outputs": [],
   "source": [
    "ordered_status = ['good','inadequate','outstanding', 'requires_improvement' ]"
   ]
  },
  {
   "cell_type": "code",
   "execution_count": 30,
   "metadata": {},
   "outputs": [
    {
     "data": {
      "text/html": [
       "<div>\n",
       "<style>\n",
       "    .dataframe thead tr:only-child th {\n",
       "        text-align: right;\n",
       "    }\n",
       "\n",
       "    .dataframe thead th {\n",
       "        text-align: left;\n",
       "    }\n",
       "\n",
       "    .dataframe tbody tr th {\n",
       "        vertical-align: top;\n",
       "    }\n",
       "</style>\n",
       "<table border=\"1\" class=\"dataframe\">\n",
       "  <thead>\n",
       "    <tr style=\"text-align: right;\">\n",
       "      <th></th>\n",
       "      <th>report status</th>\n",
       "      <th>label</th>\n",
       "    </tr>\n",
       "  </thead>\n",
       "  <tbody>\n",
       "    <tr>\n",
       "      <th>0</th>\n",
       "      <td>outstanding</td>\n",
       "      <td>2</td>\n",
       "    </tr>\n",
       "    <tr>\n",
       "      <th>1</th>\n",
       "      <td>outstanding</td>\n",
       "      <td>2</td>\n",
       "    </tr>\n",
       "    <tr>\n",
       "      <th>2</th>\n",
       "      <td>outstanding</td>\n",
       "      <td>2</td>\n",
       "    </tr>\n",
       "    <tr>\n",
       "      <th>3</th>\n",
       "      <td>outstanding</td>\n",
       "      <td>2</td>\n",
       "    </tr>\n",
       "    <tr>\n",
       "      <th>4</th>\n",
       "      <td>outstanding</td>\n",
       "      <td>2</td>\n",
       "    </tr>\n",
       "    <tr>\n",
       "      <th>5</th>\n",
       "      <td>requires_improvement</td>\n",
       "      <td>3</td>\n",
       "    </tr>\n",
       "    <tr>\n",
       "      <th>6</th>\n",
       "      <td>requires_improvement</td>\n",
       "      <td>3</td>\n",
       "    </tr>\n",
       "    <tr>\n",
       "      <th>7</th>\n",
       "      <td>requires_improvement</td>\n",
       "      <td>3</td>\n",
       "    </tr>\n",
       "    <tr>\n",
       "      <th>8</th>\n",
       "      <td>requires_improvement</td>\n",
       "      <td>3</td>\n",
       "    </tr>\n",
       "    <tr>\n",
       "      <th>9</th>\n",
       "      <td>requires_improvement</td>\n",
       "      <td>3</td>\n",
       "    </tr>\n",
       "    <tr>\n",
       "      <th>10</th>\n",
       "      <td>good</td>\n",
       "      <td>0</td>\n",
       "    </tr>\n",
       "    <tr>\n",
       "      <th>11</th>\n",
       "      <td>good</td>\n",
       "      <td>0</td>\n",
       "    </tr>\n",
       "    <tr>\n",
       "      <th>12</th>\n",
       "      <td>good</td>\n",
       "      <td>0</td>\n",
       "    </tr>\n",
       "    <tr>\n",
       "      <th>13</th>\n",
       "      <td>good</td>\n",
       "      <td>0</td>\n",
       "    </tr>\n",
       "    <tr>\n",
       "      <th>14</th>\n",
       "      <td>good</td>\n",
       "      <td>0</td>\n",
       "    </tr>\n",
       "    <tr>\n",
       "      <th>15</th>\n",
       "      <td>inadequate</td>\n",
       "      <td>1</td>\n",
       "    </tr>\n",
       "    <tr>\n",
       "      <th>16</th>\n",
       "      <td>inadequate</td>\n",
       "      <td>1</td>\n",
       "    </tr>\n",
       "    <tr>\n",
       "      <th>17</th>\n",
       "      <td>inadequate</td>\n",
       "      <td>1</td>\n",
       "    </tr>\n",
       "    <tr>\n",
       "      <th>18</th>\n",
       "      <td>inadequate</td>\n",
       "      <td>1</td>\n",
       "    </tr>\n",
       "    <tr>\n",
       "      <th>19</th>\n",
       "      <td>inadequate</td>\n",
       "      <td>1</td>\n",
       "    </tr>\n",
       "  </tbody>\n",
       "</table>\n",
       "</div>"
      ],
      "text/plain": [
       "           report status  label\n",
       "0            outstanding      2\n",
       "1            outstanding      2\n",
       "2            outstanding      2\n",
       "3            outstanding      2\n",
       "4            outstanding      2\n",
       "5   requires_improvement      3\n",
       "6   requires_improvement      3\n",
       "7   requires_improvement      3\n",
       "8   requires_improvement      3\n",
       "9   requires_improvement      3\n",
       "10                  good      0\n",
       "11                  good      0\n",
       "12                  good      0\n",
       "13                  good      0\n",
       "14                  good      0\n",
       "15            inadequate      1\n",
       "16            inadequate      1\n",
       "17            inadequate      1\n",
       "18            inadequate      1\n",
       "19            inadequate      1"
      ]
     },
     "execution_count": 30,
     "metadata": {},
     "output_type": "execute_result"
    }
   ],
   "source": [
    "#create labels that can be processed by the ML algorithm (i.e., Encode labels with value between 0 and (n_of_labels)-1.).\n",
    "\n",
    "from sklearn.preprocessing import LabelEncoder\n",
    "\n",
    "lb_make = LabelEncoder()\n",
    "df['label'] = lb_make.fit_transform(df['report status'])\n",
    "\n",
    "#check original column and label column\n",
    "\n",
    "df[['report status', 'label']]\n",
    "\n",
    "\n"
   ]
  },
  {
   "cell_type": "code",
   "execution_count": 31,
   "metadata": {
    "collapsed": true
   },
   "outputs": [],
   "source": [
    "# Our goal is to train a model to predict the report status of each document \n",
    "# (using the newly-created numeric variable \"label\") from the feature \"Our findings\" (which represent...)\n",
    "\n",
    "\n",
    "#define X as text from column 'Our findings'\n",
    "X=df['Our findings'].values\n",
    "#define y as text from column 'label' created above\n",
    "y=df.label.values\n"
   ]
  },
  {
   "cell_type": "code",
   "execution_count": 32,
   "metadata": {},
   "outputs": [
    {
     "name": "stdout",
     "output_type": "stream",
     "text": [
      "<class 'numpy.ndarray'>\n",
      "<class 'pandas.core.series.Series'>\n"
     ]
    }
   ],
   "source": [
    "# We took the .values because the ML algorythm wants ndarray (no pandas Series)\n",
    "\n",
    "print(type(df['Our findings'].values))\n",
    "print(type(df['Our findings']))\n"
   ]
  },
  {
   "cell_type": "code",
   "execution_count": 33,
   "metadata": {},
   "outputs": [],
   "source": [
    "# split data into train and test set randomly (but in a way that is repeatable with seed random_state)\n",
    "# we set the test data to be 20% of the total data\n",
    "\n",
    "from sklearn.model_selection import train_test_split\n",
    "X_train, X_test, y_train, y_test = train_test_split(X, y, test_size=0.2, random_state=42)"
   ]
  },
  {
   "cell_type": "code",
   "execution_count": 34,
   "metadata": {},
   "outputs": [
    {
     "name": "stdout",
     "output_type": "stream",
     "text": [
      "Pipeline(memory=None,\n",
      "     steps=[('vectorizer', CountVectorizer(analyzer='word', binary=False, decode_error='strict',\n",
      "        dtype=<class 'numpy.int64'>, encoding='utf-8', input='content',\n",
      "        lowercase=True, max_df=1.0, max_features=10000, min_df=1,\n",
      "        ngram_range=(1, 2), preprocessor=None, stop_words='english',\n",
      " ...ty='l2', random_state=None, solver='liblinear', tol=0.0001,\n",
      "          verbose=0, warm_start=False))])\n"
     ]
    }
   ],
   "source": [
    "# fit the train data into our transformer/classifier pipeline\n",
    "\n",
    "print(bigram_clf.fit(X_train, y_train))\n",
    "\n"
   ]
  },
  {
   "cell_type": "code",
   "execution_count": 35,
   "metadata": {},
   "outputs": [],
   "source": [
    "# Let's predict the labels for the test data (that haven't been used to train the model)\n",
    "label_pred = bigram_clf.predict(X_test)"
   ]
  },
  {
   "cell_type": "code",
   "execution_count": 36,
   "metadata": {},
   "outputs": [
    {
     "name": "stdout",
     "output_type": "stream",
     "text": [
      "These are the predicted labels for the test data: [2 1 1 0]\n",
      "These are the original test labels hat we tried to predict: [2 1 1 2]\n"
     ]
    }
   ],
   "source": [
    "# Let's see the predictions and the real values \n",
    "print('These are the predicted labels for the test data: ' + str(label_pred))\n",
    "print('These are the original test labels hat we tried to predict: ' + str(y_test))\n",
    "\n",
    "# The model did ok: it predicted 3 out of 4 labels correctly"
   ]
  },
  {
   "cell_type": "code",
   "execution_count": 37,
   "metadata": {},
   "outputs": [
    {
     "name": "stdout",
     "output_type": "stream",
     "text": [
      "0.75\n"
     ]
    }
   ],
   "source": [
    "#score the test data\n",
    "\n",
    "print(bigram_clf.score(X_test, y_test))"
   ]
  },
  {
   "cell_type": "code",
   "execution_count": 38,
   "metadata": {},
   "outputs": [
    {
     "name": "stdout",
     "output_type": "stream",
     "text": [
      "[ 0.01083155  0.7853501   0.84921508  0.23187166]\n"
     ]
    }
   ],
   "source": [
    "# let's calculate the AUC (the area under the ROC curve) to evaluate the model\n",
    "from sklearn.metrics import roc_auc_score\n",
    "\n",
    "label_pred_prob = bigram_clf.predict_proba(X_test)[:,1]\n",
    "print(label_pred_prob)\n",
    "#roc_auc_score(y_test, label_pred_prob)"
   ]
  },
  {
   "cell_type": "markdown",
   "metadata": {},
   "source": [
    "\n",
    "\n",
    "\n",
    "### debug classifiers and explain their predictions"
   ]
  },
  {
   "cell_type": "code",
   "execution_count": 39,
   "metadata": {},
   "outputs": [
    {
     "ename": "ModuleNotFoundError",
     "evalue": "No module named 'eli5'",
     "output_type": "error",
     "traceback": [
      "\u001b[0;31m---------------------------------------------------------------------------\u001b[0m",
      "\u001b[0;31mModuleNotFoundError\u001b[0m                       Traceback (most recent call last)",
      "\u001b[0;32m<ipython-input-39-998b59d99ad3>\u001b[0m in \u001b[0;36m<module>\u001b[0;34m()\u001b[0m\n\u001b[0;32m----> 1\u001b[0;31m \u001b[0;32mimport\u001b[0m \u001b[0meli5\u001b[0m\u001b[0;34m\u001b[0m\u001b[0m\n\u001b[0m",
      "\u001b[0;31mModuleNotFoundError\u001b[0m: No module named 'eli5'"
     ]
    }
   ],
   "source": [
    "import eli5"
   ]
  },
  {
   "cell_type": "code",
   "execution_count": 40,
   "metadata": {},
   "outputs": [
    {
     "ename": "NameError",
     "evalue": "name 'eli5' is not defined",
     "output_type": "error",
     "traceback": [
      "\u001b[0;31m---------------------------------------------------------------------------\u001b[0m",
      "\u001b[0;31mNameError\u001b[0m                                 Traceback (most recent call last)",
      "\u001b[0;32m<ipython-input-40-edb351cb8627>\u001b[0m in \u001b[0;36m<module>\u001b[0;34m()\u001b[0m\n\u001b[0;32m----> 1\u001b[0;31m \u001b[0meli5\u001b[0m\u001b[0;34m.\u001b[0m\u001b[0mshow_weights\u001b[0m\u001b[0;34m(\u001b[0m\u001b[0mlr\u001b[0m\u001b[0;34m,\u001b[0m \u001b[0mtop\u001b[0m\u001b[0;34m=\u001b[0m\u001b[0;36m20\u001b[0m\u001b[0;34m,\u001b[0m\u001b[0mvec\u001b[0m\u001b[0;34m=\u001b[0m\u001b[0mvec\u001b[0m\u001b[0;34m,\u001b[0m\u001b[0mtarget_names\u001b[0m\u001b[0;34m=\u001b[0m\u001b[0mordered_status\u001b[0m\u001b[0;34m)\u001b[0m\u001b[0;34m\u001b[0m\u001b[0m\n\u001b[0m",
      "\u001b[0;31mNameError\u001b[0m: name 'eli5' is not defined"
     ]
    }
   ],
   "source": [
    "eli5.show_weights(lr, top=20,vec=vec,target_names=ordered_status) "
   ]
  },
  {
   "cell_type": "code",
   "execution_count": 41,
   "metadata": {},
   "outputs": [
    {
     "ename": "NameError",
     "evalue": "name 'eli5' is not defined",
     "output_type": "error",
     "traceback": [
      "\u001b[0;31m---------------------------------------------------------------------------\u001b[0m",
      "\u001b[0;31mNameError\u001b[0m                                 Traceback (most recent call last)",
      "\u001b[0;32m<ipython-input-41-81fb23c9e5d7>\u001b[0m in \u001b[0;36m<module>\u001b[0;34m()\u001b[0m\n\u001b[1;32m      1\u001b[0m \u001b[0;31m#explain prediction of a particular text\u001b[0m\u001b[0;34m\u001b[0m\u001b[0;34m\u001b[0m\u001b[0m\n\u001b[0;32m----> 2\u001b[0;31m \u001b[0meli5\u001b[0m\u001b[0;34m.\u001b[0m\u001b[0mexplain_prediction\u001b[0m\u001b[0;34m(\u001b[0m\u001b[0mlr\u001b[0m\u001b[0;34m,\u001b[0m \u001b[0mX_test\u001b[0m\u001b[0;34m[\u001b[0m\u001b[0;36m1\u001b[0m\u001b[0;34m]\u001b[0m\u001b[0;34m,\u001b[0m\u001b[0mvec\u001b[0m\u001b[0;34m=\u001b[0m\u001b[0mvec\u001b[0m\u001b[0;34m,\u001b[0m \u001b[0mtop\u001b[0m\u001b[0;34m=\u001b[0m\u001b[0;36m15\u001b[0m\u001b[0;34m,\u001b[0m\u001b[0mtarget_names\u001b[0m\u001b[0;34m=\u001b[0m\u001b[0mordered_status\u001b[0m\u001b[0;34m)\u001b[0m\u001b[0;34m\u001b[0m\u001b[0m\n\u001b[0m",
      "\u001b[0;31mNameError\u001b[0m: name 'eli5' is not defined"
     ]
    }
   ],
   "source": [
    "#explain prediction of a particular text\n",
    "eli5.explain_prediction(lr, X_test[1],vec=vec, top=15,target_names=ordered_status)"
   ]
  },
  {
   "cell_type": "code",
   "execution_count": 42,
   "metadata": {},
   "outputs": [
    {
     "ename": "NameError",
     "evalue": "name 'eli5' is not defined",
     "output_type": "error",
     "traceback": [
      "\u001b[0;31m---------------------------------------------------------------------------\u001b[0m",
      "\u001b[0;31mNameError\u001b[0m                                 Traceback (most recent call last)",
      "\u001b[0;32m<ipython-input-42-8b1852b04cab>\u001b[0m in \u001b[0;36m<module>\u001b[0;34m()\u001b[0m\n\u001b[1;32m      3\u001b[0m \u001b[0;31m# change it to see how the classifier reacts.\u001b[0m\u001b[0;34m\u001b[0m\u001b[0;34m\u001b[0m\u001b[0m\n\u001b[1;32m      4\u001b[0m \u001b[0;34m\u001b[0m\u001b[0m\n\u001b[0;32m----> 5\u001b[0;31m eli5.explain_prediction(lr, \"a person told us that having service safety actions rated as great\",\n\u001b[0m\u001b[1;32m      6\u001b[0m                         vec=vec, top=15,target_names=ordered_status)\n",
      "\u001b[0;31mNameError\u001b[0m: name 'eli5' is not defined"
     ]
    }
   ],
   "source": [
    "#explaining the predictions of  ad hoc text. here a (kind of nonsensical) sentence based on tokens \n",
    "# more important in the 'outstanding' class\n",
    "# change it to see how the classifier reacts.\n",
    "\n",
    "eli5.explain_prediction(lr, \"a person told us that having service safety actions rated as great\",\n",
    "                        vec=vec, top=15,target_names=ordered_status)"
   ]
  },
  {
   "cell_type": "code",
   "execution_count": null,
   "metadata": {
    "collapsed": true
   },
   "outputs": [],
   "source": []
  }
 ],
 "metadata": {
  "kernelspec": {
   "display_name": "Python 3",
   "language": "python",
   "name": "python3"
  },
  "language_info": {
   "codemirror_mode": {
    "name": "ipython",
    "version": 3
   },
   "file_extension": ".py",
   "mimetype": "text/x-python",
   "name": "python",
   "nbconvert_exporter": "python",
   "pygments_lexer": "ipython3",
   "version": "3.6.3"
  }
 },
 "nbformat": 4,
 "nbformat_minor": 2
}
