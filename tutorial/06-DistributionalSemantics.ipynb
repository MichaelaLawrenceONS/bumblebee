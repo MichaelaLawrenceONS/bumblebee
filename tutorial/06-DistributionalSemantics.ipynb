{
 "cells": [
  {
   "cell_type": "markdown",
   "metadata": {},
   "source": [
    "## DISTRIBUTIONAL APPROACH TO SEMANTICS \n",
    "\n",
    "\n",
    "\n",
    "\n",
    "The distributional approach focuses on the meanings of the words themselves and is based on the ideas of de Saussure in the 1910s, Wittgenstein in the 1940s and later \"structural\" linguists such as Zellig Harris and Firth. \n",
    "\n",
    "\n",
    "The idea is that the meanings of words can be determined by considering the contexts in which words appear in text. For example, if we take a large amount of text and see which words appear close to the word \"dog\", and do a similar thing for the word \"cat\", we will see that the contexts of dog and cat tend to share many words in common (such as walk, run, furry, pet, and so on). \n",
    "\n",
    "\n",
    "Whereas if we see which words appear in the context of the word \"television\", for example, we will find less overlap with the contexts for \"dog\". Mathematically these contexts are typically represented in a vector space, so that word meanings occupy positions in a geometrical space; we would expect to find that \"dog\" and \"cat\" are much closer in the space than \"dog\" and \"television\"."
   ]
  },
  {
   "cell_type": "code",
   "execution_count": null,
   "metadata": {
    "collapsed": true
   },
   "outputs": [],
   "source": []
  }
 ],
 "metadata": {
  "kernelspec": {
   "display_name": "Python 3",
   "language": "python",
   "name": "python3"
  },
  "language_info": {
   "codemirror_mode": {
    "name": "ipython",
    "version": 3
   },
   "file_extension": ".py",
   "mimetype": "text/x-python",
   "name": "python",
   "nbconvert_exporter": "python",
   "pygments_lexer": "ipython3",
   "version": "3.6.3"
  }
 },
 "nbformat": 4,
 "nbformat_minor": 2
}
