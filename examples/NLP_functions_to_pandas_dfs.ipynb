{
 "cells": [
  {
   "cell_type": "markdown",
   "metadata": {},
   "source": [
    "# Application of basic nlp functions"
   ]
  },
  {
   "cell_type": "markdown",
   "metadata": {},
   "source": [
    "## Set ups and Imports"
   ]
  },
  {
   "cell_type": "markdown",
   "metadata": {},
   "source": [
    "Import modules and our user-defined functions"
   ]
  },
  {
   "cell_type": "code",
   "execution_count": 1,
   "metadata": {
    "scrolled": true
   },
   "outputs": [
    {
     "name": "stderr",
     "output_type": "stream",
     "text": [
      "/Users/alessia/anaconda3/lib/python3.6/site-packages/nltk/twitter/__init__.py:20: UserWarning: The twython library has not been installed. Some functionality from the twitter package will not be available.\n",
      "  warnings.warn(\"The twython library has not been installed. \"\n"
     ]
    }
   ],
   "source": [
    "import pandas as pd\n",
    "import os\n",
    "\n",
    "cwd = os.chdir('/Users/alessia/Documents/DataScience/textconsultations/nlpfunctions')\n",
    "\n",
    "from utils import *\n",
    "from basic_NLP_functions import *\n",
    "from TopicMod_functions import *"
   ]
  },
  {
   "cell_type": "code",
   "execution_count": 9,
   "metadata": {
    "collapsed": true
   },
   "outputs": [],
   "source": [
    "pd.set_option('display.max_colwidth', -1)"
   ]
  },
  {
   "cell_type": "markdown",
   "metadata": {},
   "source": [
    "Let's take a look at the user-defined functions"
   ]
  },
  {
   "cell_type": "code",
   "execution_count": 11,
   "metadata": {},
   "outputs": [
    {
     "name": "stdout",
     "output_type": "stream",
     "text": [
      "['BaseEstimator', 'CatToDictTransformer', 'ColumnSelector', 'DenseTransformer', 'Series2ListOfStrings', 'TransformerMixin', '__builtins__', '__cached__', '__doc__', '__file__', '__loader__', '__name__', '__package__', '__spec__', 'collections', 'combine_2fs', 'combine_functions', 'combine_functions_output_series', 'flattenIrregularListOfLists', 'functools', 'itertools', 'list2array_TextFunctionFeaturizer', 'list2list_TextFunctionFeaturizer', 'list2string', 'np', 'output_series', 'pd', 'series_output', 'string_to_series_out', 'word_tokens2string_sentences', 'wraps']\n"
     ]
    },
    {
     "ename": "NameError",
     "evalue": "name 'TopicMod_functions' is not defined",
     "output_type": "error",
     "traceback": [
      "\u001b[0;31m---------------------------------------------------------------------------\u001b[0m",
      "\u001b[0;31mNameError\u001b[0m                                 Traceback (most recent call last)",
      "\u001b[0;32m<ipython-input-11-96e53795387c>\u001b[0m in \u001b[0;36m<module>\u001b[0;34m()\u001b[0m\n\u001b[1;32m      1\u001b[0m \u001b[0mprint\u001b[0m \u001b[0;34m(\u001b[0m \u001b[0mdir\u001b[0m\u001b[0;34m(\u001b[0m\u001b[0mutils\u001b[0m\u001b[0;34m)\u001b[0m \u001b[0;34m)\u001b[0m\u001b[0;34m\u001b[0m\u001b[0m\n\u001b[0;32m----> 2\u001b[0;31m \u001b[0mprint\u001b[0m \u001b[0;34m(\u001b[0m \u001b[0mdir\u001b[0m\u001b[0;34m(\u001b[0m\u001b[0mTopicMod_functions\u001b[0m\u001b[0;34m)\u001b[0m \u001b[0;34m)\u001b[0m\u001b[0;34m\u001b[0m\u001b[0m\n\u001b[0m\u001b[1;32m      3\u001b[0m \u001b[0mprint\u001b[0m \u001b[0;34m(\u001b[0m \u001b[0mdir\u001b[0m\u001b[0;34m(\u001b[0m\u001b[0mbasic_NLP_functions\u001b[0m\u001b[0;34m)\u001b[0m \u001b[0;34m)\u001b[0m\u001b[0;34m\u001b[0m\u001b[0m\n",
      "\u001b[0;31mNameError\u001b[0m: name 'TopicMod_functions' is not defined"
     ]
    }
   ],
   "source": [
    "print ( dir(utils) )\n",
    "print ( dir(TopicMod_functions) )\n",
    "print ( dir(basic_NLP_functions) )\n"
   ]
  },
  {
   "cell_type": "markdown",
   "metadata": {},
   "source": [
    "For the purpose of this notebook, we will create some text data by combining same-sentiment sentences into paragraphs of various lengh from 'From Group to Individual Labels using Deep Features', Kotzias et. al,. KDD 2015."
   ]
  },
  {
   "cell_type": "code",
   "execution_count": 2,
   "metadata": {
    "collapsed": true
   },
   "outputs": [],
   "source": [
    "text = [\"I know that sounds funny, but to me it seemed like sketchy technology that wouldn't work well. Well, this one works great.\",\n",
    "        \"All I can do is whine on the Internet, so here it goes. The more I use the thing the less I like it.\",\n",
    "        \"I still maintain that monkeys shouldn't make headphones, we just obviously don't share enough DNA to copy the design over to humans. Thank you for wasting my money!\",\n",
    "        \"Not only will it drain your player, but may also potentially fry it. I want my money back.\",\n",
    "        \"There are massive levels, massive unlockable characters... it's just a massive game.\",\n",
    "        \"I especially liked the non-cliche choices with the parents; in other movies, I could predict the dialog verbatim, but the writing in this movie made better selections.\"\n",
    "       ]\n",
    "\n",
    "score = [1, 0, 0, 0, 1, 1]\n",
    "source = ['yelp', 'yelp', 'yelp', 'yelp', 'imdb', 'imdb']\n",
    "user = [1,2,3,4,5,6]"
   ]
  },
  {
   "cell_type": "code",
   "execution_count": 5,
   "metadata": {
    "collapsed": true
   },
   "outputs": [],
   "source": [
    "import pandas as pd\n",
    "\n",
    "df = pd.DataFrame({\n",
    "    'text': text,\n",
    "    'score' : score,\n",
    "    'source' : source,\n",
    "    'user' : user\n",
    "    })\n",
    "    "
   ]
  },
  {
   "cell_type": "code",
   "execution_count": 10,
   "metadata": {},
   "outputs": [
    {
     "data": {
      "text/html": [
       "<div>\n",
       "<style scoped>\n",
       "    .dataframe tbody tr th:only-of-type {\n",
       "        vertical-align: middle;\n",
       "    }\n",
       "\n",
       "    .dataframe tbody tr th {\n",
       "        vertical-align: top;\n",
       "    }\n",
       "\n",
       "    .dataframe thead th {\n",
       "        text-align: right;\n",
       "    }\n",
       "</style>\n",
       "<table border=\"1\" class=\"dataframe\">\n",
       "  <thead>\n",
       "    <tr style=\"text-align: right;\">\n",
       "      <th></th>\n",
       "      <th>text</th>\n",
       "      <th>score</th>\n",
       "      <th>source</th>\n",
       "      <th>user</th>\n",
       "    </tr>\n",
       "  </thead>\n",
       "  <tbody>\n",
       "    <tr>\n",
       "      <th>0</th>\n",
       "      <td>I know that sounds funny, but to me it seemed like sketchy technology that wouldn't work well. Well, this one works great.</td>\n",
       "      <td>1</td>\n",
       "      <td>yelp</td>\n",
       "      <td>1</td>\n",
       "    </tr>\n",
       "    <tr>\n",
       "      <th>1</th>\n",
       "      <td>All I can do is whine on the Internet, so here it goes. The more I use the thing the less I like it.</td>\n",
       "      <td>0</td>\n",
       "      <td>yelp</td>\n",
       "      <td>2</td>\n",
       "    </tr>\n",
       "    <tr>\n",
       "      <th>2</th>\n",
       "      <td>I still maintain that monkeys shouldn't make headphones, we just obviously don't share enough DNA to copy the design over to humans. Thank you for wasting my money!</td>\n",
       "      <td>0</td>\n",
       "      <td>yelp</td>\n",
       "      <td>3</td>\n",
       "    </tr>\n",
       "    <tr>\n",
       "      <th>3</th>\n",
       "      <td>Not only will it drain your player, but may also potentially fry it. I want my money back.</td>\n",
       "      <td>0</td>\n",
       "      <td>yelp</td>\n",
       "      <td>4</td>\n",
       "    </tr>\n",
       "    <tr>\n",
       "      <th>4</th>\n",
       "      <td>There are massive levels, massive unlockable characters... it's just a massive game.</td>\n",
       "      <td>1</td>\n",
       "      <td>imdb</td>\n",
       "      <td>5</td>\n",
       "    </tr>\n",
       "    <tr>\n",
       "      <th>5</th>\n",
       "      <td>I especially liked the non-cliche choices with the parents; in other movies, I could predict the dialog verbatim, but the writing in this movie made better selections.</td>\n",
       "      <td>1</td>\n",
       "      <td>imdb</td>\n",
       "      <td>6</td>\n",
       "    </tr>\n",
       "  </tbody>\n",
       "</table>\n",
       "</div>"
      ],
      "text/plain": [
       "                                                                                                                                                                      text  \\\n",
       "0  I know that sounds funny, but to me it seemed like sketchy technology that wouldn't work well. Well, this one works great.                                                \n",
       "1  All I can do is whine on the Internet, so here it goes. The more I use the thing the less I like it.                                                                      \n",
       "2  I still maintain that monkeys shouldn't make headphones, we just obviously don't share enough DNA to copy the design over to humans. Thank you for wasting my money!      \n",
       "3  Not only will it drain your player, but may also potentially fry it. I want my money back.                                                                                \n",
       "4  There are massive levels, massive unlockable characters... it's just a massive game.                                                                                      \n",
       "5  I especially liked the non-cliche choices with the parents; in other movies, I could predict the dialog verbatim, but the writing in this movie made better selections.   \n",
       "\n",
       "   score source  user  \n",
       "0  1      yelp   1     \n",
       "1  0      yelp   2     \n",
       "2  0      yelp   3     \n",
       "3  0      yelp   4     \n",
       "4  1      imdb   5     \n",
       "5  1      imdb   6     "
      ]
     },
     "execution_count": 10,
     "metadata": {},
     "output_type": "execute_result"
    }
   ],
   "source": [
    "df"
   ]
  },
  {
   "cell_type": "code",
   "execution_count": null,
   "metadata": {
    "collapsed": true
   },
   "outputs": [],
   "source": []
  }
 ],
 "metadata": {
  "kernelspec": {
   "display_name": "Python 3",
   "language": "python",
   "name": "python3"
  },
  "language_info": {
   "codemirror_mode": {
    "name": "ipython",
    "version": 3
   },
   "file_extension": ".py",
   "mimetype": "text/x-python",
   "name": "python",
   "nbconvert_exporter": "python",
   "pygments_lexer": "ipython3",
   "version": "3.6.3"
  }
 },
 "nbformat": 4,
 "nbformat_minor": 2
}
