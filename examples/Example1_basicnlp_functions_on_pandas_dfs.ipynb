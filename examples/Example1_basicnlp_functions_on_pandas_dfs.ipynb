{
 "cells": [
  {
   "cell_type": "markdown",
   "metadata": {},
   "source": [
    "# Application of ```basicnlp``` functions to text data"
   ]
  },
  {
   "cell_type": "markdown",
   "metadata": {
    "collapsed": true
   },
   "source": [
    "One of the main purposes of this package is to provide functions that make it easy to apply NLP and text-mining tecniques to text documents usually stored in ```pandas.Series```. \n",
    "\n",
    "In this script, we show how ```basicnlp``` and ```utils``` make it straightforward to combine NLTK, TextBlob and any self-created functions to texts of different sentence-length.\n"
   ]
  },
  {
   "cell_type": "markdown",
   "metadata": {},
   "source": [
    "## Set ups and Imports"
   ]
  },
  {
   "cell_type": "markdown",
   "metadata": {},
   "source": [
    "Import modules and our user-defined functions"
   ]
  },
  {
   "cell_type": "code",
   "execution_count": 11,
   "metadata": {
    "scrolled": false
   },
   "outputs": [],
   "source": [
    "import pandas as pd\n",
    "import numpy as np\n",
    "import os\n",
    "\n",
    "from nlpbumblebee.utils import *\n",
    "from nlpbumblebee.basicnlp import *"
   ]
  },
  {
   "cell_type": "code",
   "execution_count": 2,
   "metadata": {
    "collapsed": true
   },
   "outputs": [],
   "source": [
    "pd.set_option('display.max_colwidth', -1)"
   ]
  },
  {
   "cell_type": "markdown",
   "metadata": {},
   "source": [
    "Let's start by taking a look at the list of user-defined functions"
   ]
  },
  {
   "cell_type": "code",
   "execution_count": 10,
   "metadata": {},
   "outputs": [
    {
     "name": "stdout",
     "output_type": "stream",
     "text": [
      "['__builtins__', '__cached__', '__doc__', '__file__', '__loader__', '__name__', '__package__', '__spec__', 'collections', 'combine_2fs', 'combine_functions', 'combine_functions_output_series', 'flattenIrregularListOfLists', 'functools', 'list2string', 'merge_dfs', 'np', 'output_series', 'pd', 'reduce', 'series_output', 'string_to_series_out', 'word_tokens2string_sentences', 'wraps']\n",
      "['POS_tagging', 'SentimentIntensityAnalyzer', 'TextBlob', 'WordNetLemmatizer', '__builtins__', '__cached__', '__doc__', '__file__', '__loader__', '__name__', '__package__', '__spec__', 'analyser', 'break_compound_words', 'classify_subjectivity', 'count_pos', 'count_punkt', 'count_words', 'fix_neg_auxiliary', 'get_sentiment_score_TB', 'get_sentiment_score_VDR', 'get_sentiment_stricter_threshold', 'get_subjectivity', 'get_wordnet_pos', 'is_part_string', 'itertools', 'keep_only_strict_polarity_sents', 'lemmatise', 'mark_neg', 'mark_negation', 'np', 'pd', 'pos_tag', 'punctuation', 'remove_objective_sents', 'remove_punctuation', 'remove_punctuation_tok', 'remove_stopwords', 'rescale_to_01', 'sent_tokenise', 'sent_tokenize', 'stopwords', 'string', 'to_lower', 'word_tokenise', 'word_tokenize', 'wordnet', 'wordnet_lemmatiser']\n"
     ]
    }
   ],
   "source": [
    "print ( dir(utils) )\n",
    "\n",
    "# This one throws NameError: name 'basicnlp' is not defined... but the functions are uploaded!\n",
    "print ( dir(basicnlp) )\n"
   ]
  },
  {
   "cell_type": "markdown",
   "metadata": {},
   "source": [
    "## Data"
   ]
  },
  {
   "cell_type": "markdown",
   "metadata": {},
   "source": [
    "For the purpose of this notebook, we will create some text data by combining same-sentiment sentences into short paragraphs of text from 'From Group to Individual Labels using Deep Features', Kotzias et. al,. KDD 2015.\n",
    "\n",
    "Importantly for our examples, the texts are made by varying numbers of sentences."
   ]
  },
  {
   "cell_type": "code",
   "execution_count": 6,
   "metadata": {},
   "outputs": [],
   "source": [
    "text = [\"I know that sounds funny, but to me it seemed like sketchy technology that wouldn't work well. Well, this one works great.\",\n",
    "        \"All I can do is whine on the Internet, so here it goes. The more I use the thing the less I like it.\",\n",
    "        \"I still maintain that monkeys shouldn't make headphones, we just obviously don't share enough DNA to copy the design over to humans. Thank you for wasting my money!\",\n",
    "        \"Not only will it drain your player, but may also potentially fry it. I want my money back.\",\n",
    "        \"There are massive levels, massive unlockable characters... it's just a massive game.\",\n",
    "        \"\",\n",
    "        \"A great film by a great director. The movie had you on the edge of your seat and made you somewhat afraid to go to your car at the end of the night. The music in the film is really nice too. I'd advise anyone to go and see it.\", \n",
    "        \"I especially liked the non-cliche choices with the parents; in other movies, I could predict the dialog verbatim, but the writing in this movie made better selections.\",\n",
    "        \"Brilliant!\"\n",
    "       ]\n",
    "\n",
    "score = [1, 0, 0, 0, 1, np.nan, 1, 1, 1]\n",
    "source = ['yelp', 'yelp', 'yelp', 'yelp', 'imbd', 'imbd', 'imdb', 'imdb', 'imdb']\n",
    "user = [1,2,3,4,5,6,7,8,9]"
   ]
  },
  {
   "cell_type": "code",
   "execution_count": 7,
   "metadata": {
    "collapsed": true
   },
   "outputs": [],
   "source": [
    "import pandas as pd\n",
    "\n",
    "df = pd.DataFrame({\n",
    "    'user' : user,\n",
    "    'text': text,\n",
    "    'source' : source\n",
    "    })\n",
    "    "
   ]
  },
  {
   "cell_type": "markdown",
   "metadata": {},
   "source": [
    "Let's have a quick look at the pandas dataframe we have just created."
   ]
  },
  {
   "cell_type": "code",
   "execution_count": 8,
   "metadata": {},
   "outputs": [
    {
     "data": {
      "text/html": [
       "<div>\n",
       "<style scoped>\n",
       "    .dataframe tbody tr th:only-of-type {\n",
       "        vertical-align: middle;\n",
       "    }\n",
       "\n",
       "    .dataframe tbody tr th {\n",
       "        vertical-align: top;\n",
       "    }\n",
       "\n",
       "    .dataframe thead th {\n",
       "        text-align: right;\n",
       "    }\n",
       "</style>\n",
       "<table border=\"1\" class=\"dataframe\">\n",
       "  <thead>\n",
       "    <tr style=\"text-align: right;\">\n",
       "      <th></th>\n",
       "      <th>user</th>\n",
       "      <th>text</th>\n",
       "      <th>source</th>\n",
       "    </tr>\n",
       "  </thead>\n",
       "  <tbody>\n",
       "    <tr>\n",
       "      <th>0</th>\n",
       "      <td>1</td>\n",
       "      <td>I know that sounds funny, but to me it seemed like sketchy technology that wouldn't work well. Well, this one works great.</td>\n",
       "      <td>yelp</td>\n",
       "    </tr>\n",
       "    <tr>\n",
       "      <th>1</th>\n",
       "      <td>2</td>\n",
       "      <td>All I can do is whine on the Internet, so here it goes. The more I use the thing the less I like it.</td>\n",
       "      <td>yelp</td>\n",
       "    </tr>\n",
       "    <tr>\n",
       "      <th>2</th>\n",
       "      <td>3</td>\n",
       "      <td>I still maintain that monkeys shouldn't make headphones, we just obviously don't share enough DNA to copy the design over to humans. Thank you for wasting my money!</td>\n",
       "      <td>yelp</td>\n",
       "    </tr>\n",
       "    <tr>\n",
       "      <th>3</th>\n",
       "      <td>4</td>\n",
       "      <td>Not only will it drain your player, but may also potentially fry it. I want my money back.</td>\n",
       "      <td>yelp</td>\n",
       "    </tr>\n",
       "    <tr>\n",
       "      <th>4</th>\n",
       "      <td>5</td>\n",
       "      <td>There are massive levels, massive unlockable characters... it's just a massive game.</td>\n",
       "      <td>imbd</td>\n",
       "    </tr>\n",
       "    <tr>\n",
       "      <th>5</th>\n",
       "      <td>6</td>\n",
       "      <td></td>\n",
       "      <td>imbd</td>\n",
       "    </tr>\n",
       "    <tr>\n",
       "      <th>6</th>\n",
       "      <td>7</td>\n",
       "      <td>A great film by a great director. The movie had you on the edge of your seat and made you somewhat afraid to go to your car at the end of the night. The music in the film is really nice too. I'd advise anyone to go and see it.</td>\n",
       "      <td>imdb</td>\n",
       "    </tr>\n",
       "    <tr>\n",
       "      <th>7</th>\n",
       "      <td>8</td>\n",
       "      <td>I especially liked the non-cliche choices with the parents; in other movies, I could predict the dialog verbatim, but the writing in this movie made better selections.</td>\n",
       "      <td>imdb</td>\n",
       "    </tr>\n",
       "    <tr>\n",
       "      <th>8</th>\n",
       "      <td>9</td>\n",
       "      <td>Brilliant!</td>\n",
       "      <td>imdb</td>\n",
       "    </tr>\n",
       "  </tbody>\n",
       "</table>\n",
       "</div>"
      ],
      "text/plain": [
       "   user  \\\n",
       "0  1      \n",
       "1  2      \n",
       "2  3      \n",
       "3  4      \n",
       "4  5      \n",
       "5  6      \n",
       "6  7      \n",
       "7  8      \n",
       "8  9      \n",
       "\n",
       "                                                                                                                                                                                                                                 text  \\\n",
       "0  I know that sounds funny, but to me it seemed like sketchy technology that wouldn't work well. Well, this one works great.                                                                                                           \n",
       "1  All I can do is whine on the Internet, so here it goes. The more I use the thing the less I like it.                                                                                                                                 \n",
       "2  I still maintain that monkeys shouldn't make headphones, we just obviously don't share enough DNA to copy the design over to humans. Thank you for wasting my money!                                                                 \n",
       "3  Not only will it drain your player, but may also potentially fry it. I want my money back.                                                                                                                                           \n",
       "4  There are massive levels, massive unlockable characters... it's just a massive game.                                                                                                                                                 \n",
       "5                                                                                                                                                                                                                                       \n",
       "6  A great film by a great director. The movie had you on the edge of your seat and made you somewhat afraid to go to your car at the end of the night. The music in the film is really nice too. I'd advise anyone to go and see it.   \n",
       "7  I especially liked the non-cliche choices with the parents; in other movies, I could predict the dialog verbatim, but the writing in this movie made better selections.                                                              \n",
       "8  Brilliant!                                                                                                                                                                                                                           \n",
       "\n",
       "  source  \n",
       "0  yelp   \n",
       "1  yelp   \n",
       "2  yelp   \n",
       "3  yelp   \n",
       "4  imbd   \n",
       "5  imbd   \n",
       "6  imdb   \n",
       "7  imdb   \n",
       "8  imdb   "
      ]
     },
     "execution_count": 8,
     "metadata": {},
     "output_type": "execute_result"
    }
   ],
   "source": [
    "df"
   ]
  },
  {
   "cell_type": "markdown",
   "metadata": {
    "collapsed": true
   },
   "source": [
    "As we can see the texts are composed by varying numbers of sentences, and one datapoint is missing."
   ]
  },
  {
   "cell_type": "markdown",
   "metadata": {},
   "source": [
    "## Applying ```basicnlp``` functions to a pandas.Series"
   ]
  },
  {
   "cell_type": "markdown",
   "metadata": {},
   "source": [
    "The main idea behind our NLP basic functions is to make it easy to apply NLP and text-mining functions from NLTK, TextBlob and other self-created functions to texts with different sentence-length stored that are stored in pandas.Series.\n",
    "\n",
    "Let's see how this works."
   ]
  },
  {
   "cell_type": "markdown",
   "metadata": {},
   "source": [
    "### Building pipelines of functions"
   ]
  },
  {
   "cell_type": "markdown",
   "metadata": {},
   "source": [
    "Let's suppose we want to sentence tokenise our texts for then calculate the polarity score for each sentence in each text, and then averaging the scores for each text."
   ]
  },
  {
   "cell_type": "markdown",
   "metadata": {},
   "source": [
    "#### Sentence and Word Tokenisation"
   ]
  },
  {
   "cell_type": "markdown",
   "metadata": {},
   "source": [
    "One option is to chain our functions through a series of ```apply().apply()```. And this is what we do in the following code.\n",
    "\n",
    "As you can see, the function ```word_tokenise()``` preserves the sentence boundaries, which is really useful when calculating sentiment scores as this must be done at sentence (and not paragraph) level.\n",
    "\n",
    "We then save the results as a new pandas.Series."
   ]
  },
  {
   "cell_type": "code",
   "execution_count": 12,
   "metadata": {},
   "outputs": [],
   "source": [
    "df['text_word_tok'] = df['text'].apply(lambda x: sent_tokenise(x)).apply(lambda x: word_tokenise(x))\n"
   ]
  },
  {
   "cell_type": "code",
   "execution_count": 13,
   "metadata": {},
   "outputs": [
    {
     "data": {
      "text/html": [
       "<div>\n",
       "<style scoped>\n",
       "    .dataframe tbody tr th:only-of-type {\n",
       "        vertical-align: middle;\n",
       "    }\n",
       "\n",
       "    .dataframe tbody tr th {\n",
       "        vertical-align: top;\n",
       "    }\n",
       "\n",
       "    .dataframe thead th {\n",
       "        text-align: right;\n",
       "    }\n",
       "</style>\n",
       "<table border=\"1\" class=\"dataframe\">\n",
       "  <thead>\n",
       "    <tr style=\"text-align: right;\">\n",
       "      <th></th>\n",
       "      <th>text_word_tok</th>\n",
       "    </tr>\n",
       "  </thead>\n",
       "  <tbody>\n",
       "    <tr>\n",
       "      <th>0</th>\n",
       "      <td>[[I, know, that, sounds, funny, ,, but, to, me, it, seemed, like, sketchy, technology, that, would, n't, work, well, .], [Well, ,, this, one, works, great, .]]</td>\n",
       "    </tr>\n",
       "    <tr>\n",
       "      <th>1</th>\n",
       "      <td>[[All, I, can, do, is, whine, on, the, Internet, ,, so, here, it, goes, .], [The, more, I, use, the, thing, the, less, I, like, it, .]]</td>\n",
       "    </tr>\n",
       "    <tr>\n",
       "      <th>2</th>\n",
       "      <td>[[I, still, maintain, that, monkeys, should, n't, make, headphones, ,, we, just, obviously, do, n't, share, enough, DNA, to, copy, the, design, over, to, humans, .], [Thank, you, for, wasting, my, money, !]]</td>\n",
       "    </tr>\n",
       "    <tr>\n",
       "      <th>3</th>\n",
       "      <td>[[Not, only, will, it, drain, your, player, ,, but, may, also, potentially, fry, it, .], [I, want, my, money, back, .]]</td>\n",
       "    </tr>\n",
       "    <tr>\n",
       "      <th>4</th>\n",
       "      <td>[[There, are, massive, levels, ,, massive, unlockable, characters, ..., it, 's, just, a, massive, game, .]]</td>\n",
       "    </tr>\n",
       "    <tr>\n",
       "      <th>5</th>\n",
       "      <td>[]</td>\n",
       "    </tr>\n",
       "    <tr>\n",
       "      <th>6</th>\n",
       "      <td>[[A, great, film, by, a, great, director, .], [The, movie, had, you, on, the, edge, of, your, seat, and, made, you, somewhat, afraid, to, go, to, your, car, at, the, end, of, the, night, .], [The, music, in, the, film, is, really, nice, too, .], [I, 'd, advise, anyone, to, go, and, see, it, .]]</td>\n",
       "    </tr>\n",
       "    <tr>\n",
       "      <th>7</th>\n",
       "      <td>[[I, especially, liked, the, non-cliche, choices, with, the, parents, ;, in, other, movies, ,, I, could, predict, the, dialog, verbatim, ,, but, the, writing, in, this, movie, made, better, selections, .]]</td>\n",
       "    </tr>\n",
       "    <tr>\n",
       "      <th>8</th>\n",
       "      <td>[[Brilliant, !]]</td>\n",
       "    </tr>\n",
       "  </tbody>\n",
       "</table>\n",
       "</div>"
      ],
      "text/plain": [
       "                                                                                                                                                                                                                                                                                             text_word_tok\n",
       "0  [[I, know, that, sounds, funny, ,, but, to, me, it, seemed, like, sketchy, technology, that, would, n't, work, well, .], [Well, ,, this, one, works, great, .]]                                                                                                                                        \n",
       "1  [[All, I, can, do, is, whine, on, the, Internet, ,, so, here, it, goes, .], [The, more, I, use, the, thing, the, less, I, like, it, .]]                                                                                                                                                                \n",
       "2  [[I, still, maintain, that, monkeys, should, n't, make, headphones, ,, we, just, obviously, do, n't, share, enough, DNA, to, copy, the, design, over, to, humans, .], [Thank, you, for, wasting, my, money, !]]                                                                                        \n",
       "3  [[Not, only, will, it, drain, your, player, ,, but, may, also, potentially, fry, it, .], [I, want, my, money, back, .]]                                                                                                                                                                                \n",
       "4  [[There, are, massive, levels, ,, massive, unlockable, characters, ..., it, 's, just, a, massive, game, .]]                                                                                                                                                                                            \n",
       "5  []                                                                                                                                                                                                                                                                                                     \n",
       "6  [[A, great, film, by, a, great, director, .], [The, movie, had, you, on, the, edge, of, your, seat, and, made, you, somewhat, afraid, to, go, to, your, car, at, the, end, of, the, night, .], [The, music, in, the, film, is, really, nice, too, .], [I, 'd, advise, anyone, to, go, and, see, it, .]]\n",
       "7  [[I, especially, liked, the, non-cliche, choices, with, the, parents, ;, in, other, movies, ,, I, could, predict, the, dialog, verbatim, ,, but, the, writing, in, this, movie, made, better, selections, .]]                                                                                          \n",
       "8  [[Brilliant, !]]                                                                                                                                                                                                                                                                                       "
      ]
     },
     "execution_count": 13,
     "metadata": {},
     "output_type": "execute_result"
    }
   ],
   "source": [
    "df[['text_word_tok']]"
   ]
  },
  {
   "cell_type": "markdown",
   "metadata": {},
   "source": [
    "#### Calculate sentiment or subjecivity score at sentence level and then at paragraph level"
   ]
  },
  {
   "cell_type": "markdown",
   "metadata": {},
   "source": [
    "Let's then use NLTK's Vader to compute the sentiment score for each sentence in each text. What we obtain is a list of score for each text, one score for each sentence in that text."
   ]
  },
  {
   "cell_type": "code",
   "execution_count": 14,
   "metadata": {
    "scrolled": false
   },
   "outputs": [
    {
     "data": {
      "text/plain": [
       "0    [0.455, 0.7351]           \n",
       "1    [-0.3612, 0.2975]         \n",
       "2    [-0.2235, -0.126]         \n",
       "3    [0.0, 0.0772]             \n",
       "4    [0.0]                     \n",
       "5    NaN                       \n",
       "6    [0.8481, 0.0, 0.4754, 0.0]\n",
       "7    [0.7092]                  \n",
       "8    [0.6239]                  \n",
       "Name: text, dtype: object"
      ]
     },
     "execution_count": 14,
     "metadata": {},
     "output_type": "execute_result"
    }
   ],
   "source": [
    "df['text'].apply(lambda x: sent_tokenise(x)).apply(lambda x: get_sentiment_score_VDR(x))"
   ]
  },
  {
   "cell_type": "markdown",
   "metadata": {},
   "source": [
    "Let's now calculate the text-level polarity score by averaging the sentence-level scores for each text:"
   ]
  },
  {
   "cell_type": "code",
   "execution_count": 15,
   "metadata": {
    "collapsed": true
   },
   "outputs": [],
   "source": [
    "df['text_sentiment_VDR'] = df['text'].apply(lambda x: sent_tokenise(x)).apply(lambda x: get_sentiment_score_VDR(x)).apply(lambda x: np.mean(x))"
   ]
  },
  {
   "cell_type": "code",
   "execution_count": 16,
   "metadata": {
    "scrolled": true
   },
   "outputs": [
    {
     "data": {
      "text/html": [
       "<div>\n",
       "<style scoped>\n",
       "    .dataframe tbody tr th:only-of-type {\n",
       "        vertical-align: middle;\n",
       "    }\n",
       "\n",
       "    .dataframe tbody tr th {\n",
       "        vertical-align: top;\n",
       "    }\n",
       "\n",
       "    .dataframe thead th {\n",
       "        text-align: right;\n",
       "    }\n",
       "</style>\n",
       "<table border=\"1\" class=\"dataframe\">\n",
       "  <thead>\n",
       "    <tr style=\"text-align: right;\">\n",
       "      <th></th>\n",
       "      <th>text</th>\n",
       "      <th>text_sentiment_VDR</th>\n",
       "    </tr>\n",
       "  </thead>\n",
       "  <tbody>\n",
       "    <tr>\n",
       "      <th>0</th>\n",
       "      <td>I know that sounds funny, but to me it seemed like sketchy technology that wouldn't work well. Well, this one works great.</td>\n",
       "      <td>0.595050</td>\n",
       "    </tr>\n",
       "    <tr>\n",
       "      <th>1</th>\n",
       "      <td>All I can do is whine on the Internet, so here it goes. The more I use the thing the less I like it.</td>\n",
       "      <td>-0.031850</td>\n",
       "    </tr>\n",
       "    <tr>\n",
       "      <th>2</th>\n",
       "      <td>I still maintain that monkeys shouldn't make headphones, we just obviously don't share enough DNA to copy the design over to humans. Thank you for wasting my money!</td>\n",
       "      <td>-0.174750</td>\n",
       "    </tr>\n",
       "    <tr>\n",
       "      <th>3</th>\n",
       "      <td>Not only will it drain your player, but may also potentially fry it. I want my money back.</td>\n",
       "      <td>0.038600</td>\n",
       "    </tr>\n",
       "    <tr>\n",
       "      <th>4</th>\n",
       "      <td>There are massive levels, massive unlockable characters... it's just a massive game.</td>\n",
       "      <td>0.000000</td>\n",
       "    </tr>\n",
       "    <tr>\n",
       "      <th>5</th>\n",
       "      <td></td>\n",
       "      <td>NaN</td>\n",
       "    </tr>\n",
       "    <tr>\n",
       "      <th>6</th>\n",
       "      <td>A great film by a great director. The movie had you on the edge of your seat and made you somewhat afraid to go to your car at the end of the night. The music in the film is really nice too. I'd advise anyone to go and see it.</td>\n",
       "      <td>0.330875</td>\n",
       "    </tr>\n",
       "    <tr>\n",
       "      <th>7</th>\n",
       "      <td>I especially liked the non-cliche choices with the parents; in other movies, I could predict the dialog verbatim, but the writing in this movie made better selections.</td>\n",
       "      <td>0.709200</td>\n",
       "    </tr>\n",
       "    <tr>\n",
       "      <th>8</th>\n",
       "      <td>Brilliant!</td>\n",
       "      <td>0.623900</td>\n",
       "    </tr>\n",
       "  </tbody>\n",
       "</table>\n",
       "</div>"
      ],
      "text/plain": [
       "                                                                                                                                                                                                                                 text  \\\n",
       "0  I know that sounds funny, but to me it seemed like sketchy technology that wouldn't work well. Well, this one works great.                                                                                                           \n",
       "1  All I can do is whine on the Internet, so here it goes. The more I use the thing the less I like it.                                                                                                                                 \n",
       "2  I still maintain that monkeys shouldn't make headphones, we just obviously don't share enough DNA to copy the design over to humans. Thank you for wasting my money!                                                                 \n",
       "3  Not only will it drain your player, but may also potentially fry it. I want my money back.                                                                                                                                           \n",
       "4  There are massive levels, massive unlockable characters... it's just a massive game.                                                                                                                                                 \n",
       "5                                                                                                                                                                                                                                       \n",
       "6  A great film by a great director. The movie had you on the edge of your seat and made you somewhat afraid to go to your car at the end of the night. The music in the film is really nice too. I'd advise anyone to go and see it.   \n",
       "7  I especially liked the non-cliche choices with the parents; in other movies, I could predict the dialog verbatim, but the writing in this movie made better selections.                                                              \n",
       "8  Brilliant!                                                                                                                                                                                                                           \n",
       "\n",
       "   text_sentiment_VDR  \n",
       "0  0.595050            \n",
       "1 -0.031850            \n",
       "2 -0.174750            \n",
       "3  0.038600            \n",
       "4  0.000000            \n",
       "5 NaN                  \n",
       "6  0.330875            \n",
       "7  0.709200            \n",
       "8  0.623900            "
      ]
     },
     "execution_count": 16,
     "metadata": {},
     "output_type": "execute_result"
    }
   ],
   "source": [
    "df[['text','text_sentiment_VDR']]"
   ]
  },
  {
   "cell_type": "markdown",
   "metadata": {},
   "source": [
    "### A smarter way to build pipelines of functions with ```combine_functions()```"
   ]
  },
  {
   "cell_type": "markdown",
   "metadata": {},
   "source": [
    "The function ```combine_functions()``` create chains (or pipelines) of functions. To real advantage of this approach is that once we have created our function pipeline, we can apply it to our text data in one go without building a chain of ```apply().apply()```, as it should be clear in the following code. "
   ]
  },
  {
   "cell_type": "markdown",
   "metadata": {},
   "source": [
    "Let's re-calculate the paragraph-level sentiment score using ```combine_function()```:"
   ]
  },
  {
   "cell_type": "code",
   "execution_count": 17,
   "metadata": {
    "collapsed": true
   },
   "outputs": [],
   "source": [
    "par_sentiment_VDR_fn = combine_functions(sent_tokenise,\n",
    "                                        get_sentiment_score_VDR,\n",
    "                                        np.mean)"
   ]
  },
  {
   "cell_type": "code",
   "execution_count": 18,
   "metadata": {},
   "outputs": [
    {
     "data": {
      "text/html": [
       "<div>\n",
       "<style scoped>\n",
       "    .dataframe tbody tr th:only-of-type {\n",
       "        vertical-align: middle;\n",
       "    }\n",
       "\n",
       "    .dataframe tbody tr th {\n",
       "        vertical-align: top;\n",
       "    }\n",
       "\n",
       "    .dataframe thead th {\n",
       "        text-align: right;\n",
       "    }\n",
       "</style>\n",
       "<table border=\"1\" class=\"dataframe\">\n",
       "  <thead>\n",
       "    <tr style=\"text-align: right;\">\n",
       "      <th></th>\n",
       "      <th>text</th>\n",
       "      <th>text_sentiment_VDR</th>\n",
       "    </tr>\n",
       "  </thead>\n",
       "  <tbody>\n",
       "    <tr>\n",
       "      <th>0</th>\n",
       "      <td>I know that sounds funny, but to me it seemed like sketchy technology that wouldn't work well. Well, this one works great.</td>\n",
       "      <td>0.595050</td>\n",
       "    </tr>\n",
       "    <tr>\n",
       "      <th>1</th>\n",
       "      <td>All I can do is whine on the Internet, so here it goes. The more I use the thing the less I like it.</td>\n",
       "      <td>-0.031850</td>\n",
       "    </tr>\n",
       "    <tr>\n",
       "      <th>2</th>\n",
       "      <td>I still maintain that monkeys shouldn't make headphones, we just obviously don't share enough DNA to copy the design over to humans. Thank you for wasting my money!</td>\n",
       "      <td>-0.174750</td>\n",
       "    </tr>\n",
       "    <tr>\n",
       "      <th>3</th>\n",
       "      <td>Not only will it drain your player, but may also potentially fry it. I want my money back.</td>\n",
       "      <td>0.038600</td>\n",
       "    </tr>\n",
       "    <tr>\n",
       "      <th>4</th>\n",
       "      <td>There are massive levels, massive unlockable characters... it's just a massive game.</td>\n",
       "      <td>0.000000</td>\n",
       "    </tr>\n",
       "    <tr>\n",
       "      <th>5</th>\n",
       "      <td></td>\n",
       "      <td>NaN</td>\n",
       "    </tr>\n",
       "    <tr>\n",
       "      <th>6</th>\n",
       "      <td>A great film by a great director. The movie had you on the edge of your seat and made you somewhat afraid to go to your car at the end of the night. The music in the film is really nice too. I'd advise anyone to go and see it.</td>\n",
       "      <td>0.330875</td>\n",
       "    </tr>\n",
       "    <tr>\n",
       "      <th>7</th>\n",
       "      <td>I especially liked the non-cliche choices with the parents; in other movies, I could predict the dialog verbatim, but the writing in this movie made better selections.</td>\n",
       "      <td>0.709200</td>\n",
       "    </tr>\n",
       "    <tr>\n",
       "      <th>8</th>\n",
       "      <td>Brilliant!</td>\n",
       "      <td>0.623900</td>\n",
       "    </tr>\n",
       "  </tbody>\n",
       "</table>\n",
       "</div>"
      ],
      "text/plain": [
       "                                                                                                                                                                                                                                 text  \\\n",
       "0  I know that sounds funny, but to me it seemed like sketchy technology that wouldn't work well. Well, this one works great.                                                                                                           \n",
       "1  All I can do is whine on the Internet, so here it goes. The more I use the thing the less I like it.                                                                                                                                 \n",
       "2  I still maintain that monkeys shouldn't make headphones, we just obviously don't share enough DNA to copy the design over to humans. Thank you for wasting my money!                                                                 \n",
       "3  Not only will it drain your player, but may also potentially fry it. I want my money back.                                                                                                                                           \n",
       "4  There are massive levels, massive unlockable characters... it's just a massive game.                                                                                                                                                 \n",
       "5                                                                                                                                                                                                                                       \n",
       "6  A great film by a great director. The movie had you on the edge of your seat and made you somewhat afraid to go to your car at the end of the night. The music in the film is really nice too. I'd advise anyone to go and see it.   \n",
       "7  I especially liked the non-cliche choices with the parents; in other movies, I could predict the dialog verbatim, but the writing in this movie made better selections.                                                              \n",
       "8  Brilliant!                                                                                                                                                                                                                           \n",
       "\n",
       "   text_sentiment_VDR  \n",
       "0  0.595050            \n",
       "1 -0.031850            \n",
       "2 -0.174750            \n",
       "3  0.038600            \n",
       "4  0.000000            \n",
       "5 NaN                  \n",
       "6  0.330875            \n",
       "7  0.709200            \n",
       "8  0.623900            "
      ]
     },
     "execution_count": 18,
     "metadata": {},
     "output_type": "execute_result"
    }
   ],
   "source": [
    "df['text_sentiment_VDR'] = df['text'].apply(lambda x: par_sentiment_VDR_fn(x))\n",
    "df[['text', 'text_sentiment_VDR']]"
   ]
  },
  {
   "cell_type": "markdown",
   "metadata": {},
   "source": [
    "Let's compare these to the scores that we would obtain using TextBlob instead"
   ]
  },
  {
   "cell_type": "code",
   "execution_count": 19,
   "metadata": {
    "collapsed": true
   },
   "outputs": [],
   "source": [
    "df['text_sentiment_TB'] = df['text'].apply(combine_functions(sent_tokenise, get_sentiment_score_TB, np.mean))"
   ]
  },
  {
   "cell_type": "code",
   "execution_count": 20,
   "metadata": {
    "scrolled": false
   },
   "outputs": [
    {
     "data": {
      "text/html": [
       "<div>\n",
       "<style scoped>\n",
       "    .dataframe tbody tr th:only-of-type {\n",
       "        vertical-align: middle;\n",
       "    }\n",
       "\n",
       "    .dataframe tbody tr th {\n",
       "        vertical-align: top;\n",
       "    }\n",
       "\n",
       "    .dataframe thead th {\n",
       "        text-align: right;\n",
       "    }\n",
       "</style>\n",
       "<table border=\"1\" class=\"dataframe\">\n",
       "  <thead>\n",
       "    <tr style=\"text-align: right;\">\n",
       "      <th></th>\n",
       "      <th>text</th>\n",
       "      <th>text_sentiment_VDR</th>\n",
       "      <th>text_sentiment_TB</th>\n",
       "    </tr>\n",
       "  </thead>\n",
       "  <tbody>\n",
       "    <tr>\n",
       "      <th>0</th>\n",
       "      <td>I know that sounds funny, but to me it seemed like sketchy technology that wouldn't work well. Well, this one works great.</td>\n",
       "      <td>0.595050</td>\n",
       "      <td>0.525000</td>\n",
       "    </tr>\n",
       "    <tr>\n",
       "      <th>1</th>\n",
       "      <td>All I can do is whine on the Internet, so here it goes. The more I use the thing the less I like it.</td>\n",
       "      <td>-0.031850</td>\n",
       "      <td>0.083333</td>\n",
       "    </tr>\n",
       "    <tr>\n",
       "      <th>2</th>\n",
       "      <td>I still maintain that monkeys shouldn't make headphones, we just obviously don't share enough DNA to copy the design over to humans. Thank you for wasting my money!</td>\n",
       "      <td>-0.174750</td>\n",
       "      <td>0.000000</td>\n",
       "    </tr>\n",
       "    <tr>\n",
       "      <th>3</th>\n",
       "      <td>Not only will it drain your player, but may also potentially fry it. I want my money back.</td>\n",
       "      <td>0.038600</td>\n",
       "      <td>0.000000</td>\n",
       "    </tr>\n",
       "    <tr>\n",
       "      <th>4</th>\n",
       "      <td>There are massive levels, massive unlockable characters... it's just a massive game.</td>\n",
       "      <td>0.000000</td>\n",
       "      <td>-0.100000</td>\n",
       "    </tr>\n",
       "    <tr>\n",
       "      <th>5</th>\n",
       "      <td></td>\n",
       "      <td>NaN</td>\n",
       "      <td>NaN</td>\n",
       "    </tr>\n",
       "    <tr>\n",
       "      <th>6</th>\n",
       "      <td>A great film by a great director. The movie had you on the edge of your seat and made you somewhat afraid to go to your car at the end of the night. The music in the film is really nice too. I'd advise anyone to go and see it.</td>\n",
       "      <td>0.330875</td>\n",
       "      <td>0.200000</td>\n",
       "    </tr>\n",
       "    <tr>\n",
       "      <th>7</th>\n",
       "      <td>I especially liked the non-cliche choices with the parents; in other movies, I could predict the dialog verbatim, but the writing in this movie made better selections.</td>\n",
       "      <td>0.709200</td>\n",
       "      <td>0.458333</td>\n",
       "    </tr>\n",
       "    <tr>\n",
       "      <th>8</th>\n",
       "      <td>Brilliant!</td>\n",
       "      <td>0.623900</td>\n",
       "      <td>1.000000</td>\n",
       "    </tr>\n",
       "  </tbody>\n",
       "</table>\n",
       "</div>"
      ],
      "text/plain": [
       "                                                                                                                                                                                                                                 text  \\\n",
       "0  I know that sounds funny, but to me it seemed like sketchy technology that wouldn't work well. Well, this one works great.                                                                                                           \n",
       "1  All I can do is whine on the Internet, so here it goes. The more I use the thing the less I like it.                                                                                                                                 \n",
       "2  I still maintain that monkeys shouldn't make headphones, we just obviously don't share enough DNA to copy the design over to humans. Thank you for wasting my money!                                                                 \n",
       "3  Not only will it drain your player, but may also potentially fry it. I want my money back.                                                                                                                                           \n",
       "4  There are massive levels, massive unlockable characters... it's just a massive game.                                                                                                                                                 \n",
       "5                                                                                                                                                                                                                                       \n",
       "6  A great film by a great director. The movie had you on the edge of your seat and made you somewhat afraid to go to your car at the end of the night. The music in the film is really nice too. I'd advise anyone to go and see it.   \n",
       "7  I especially liked the non-cliche choices with the parents; in other movies, I could predict the dialog verbatim, but the writing in this movie made better selections.                                                              \n",
       "8  Brilliant!                                                                                                                                                                                                                           \n",
       "\n",
       "   text_sentiment_VDR  text_sentiment_TB  \n",
       "0  0.595050            0.525000           \n",
       "1 -0.031850            0.083333           \n",
       "2 -0.174750            0.000000           \n",
       "3  0.038600            0.000000           \n",
       "4  0.000000           -0.100000           \n",
       "5 NaN                 NaN                 \n",
       "6  0.330875            0.200000           \n",
       "7  0.709200            0.458333           \n",
       "8  0.623900            1.000000           "
      ]
     },
     "execution_count": 20,
     "metadata": {},
     "output_type": "execute_result"
    }
   ],
   "source": [
    "df[['text','text_sentiment_VDR', 'text_sentiment_TB']]"
   ]
  },
  {
   "cell_type": "markdown",
   "metadata": {},
   "source": [
    "#### Specifying functions' arguments"
   ]
  },
  {
   "cell_type": "markdown",
   "metadata": {},
   "source": [
    "Chained functions' arguments can be specified by using lambda functions, as in the following example:"
   ]
  },
  {
   "cell_type": "code",
   "execution_count": 21,
   "metadata": {
    "collapsed": true
   },
   "outputs": [],
   "source": [
    "?remove_stopwords"
   ]
  },
  {
   "cell_type": "code",
   "execution_count": 22,
   "metadata": {
    "collapsed": true
   },
   "outputs": [],
   "source": [
    "text_processing_fn1 = combine_functions(sent_tokenise,\n",
    "                                      word_tokenise,\n",
    "                                      to_lower,\n",
    "                                      POS_tagging,\n",
    "                                      lemmatise,\n",
    "                                      lambda x: remove_stopwords(x, extra_stopwords = [\"'s\", 'one'], words_to_keep = ['more'] )\n",
    "                                     )"
   ]
  },
  {
   "cell_type": "code",
   "execution_count": 23,
   "metadata": {
    "scrolled": false
   },
   "outputs": [
    {
     "data": {
      "text/html": [
       "<div>\n",
       "<style scoped>\n",
       "    .dataframe tbody tr th:only-of-type {\n",
       "        vertical-align: middle;\n",
       "    }\n",
       "\n",
       "    .dataframe tbody tr th {\n",
       "        vertical-align: top;\n",
       "    }\n",
       "\n",
       "    .dataframe thead th {\n",
       "        text-align: right;\n",
       "    }\n",
       "</style>\n",
       "<table border=\"1\" class=\"dataframe\">\n",
       "  <thead>\n",
       "    <tr style=\"text-align: right;\">\n",
       "      <th></th>\n",
       "      <th>cleaned_text</th>\n",
       "    </tr>\n",
       "  </thead>\n",
       "  <tbody>\n",
       "    <tr>\n",
       "      <th>0</th>\n",
       "      <td>[[know, sound, funny, ,, seem, like, sketchy, technology, would, n't, work, well, .], [well, ,, work, great, .]]</td>\n",
       "    </tr>\n",
       "    <tr>\n",
       "      <th>1</th>\n",
       "      <td>[[whine, internet, ,, go, .], [more, use, thing, less, like, .]]</td>\n",
       "    </tr>\n",
       "    <tr>\n",
       "      <th>2</th>\n",
       "      <td>[[still, maintain, monkey, n't, make, headphone, ,, obviously, n't, share, enough, dna, copy, design, human, .], [thank, waste, money, !]]</td>\n",
       "    </tr>\n",
       "    <tr>\n",
       "      <th>3</th>\n",
       "      <td>[[not, drain, player, ,, may, also, potentially, fry, .], [want, money, back, .]]</td>\n",
       "    </tr>\n",
       "    <tr>\n",
       "      <th>4</th>\n",
       "      <td>[[massive, level, ,, massive, unlockable, character, ..., massive, game, .]]</td>\n",
       "    </tr>\n",
       "    <tr>\n",
       "      <th>5</th>\n",
       "      <td>[]</td>\n",
       "    </tr>\n",
       "    <tr>\n",
       "      <th>6</th>\n",
       "      <td>[[great, film, great, director, .], [movie, edge, seat, make, somewhat, afraid, go, car, end, night, .], [music, film, really, nice, .], ['d, advise, anyone, go, see, .]]</td>\n",
       "    </tr>\n",
       "    <tr>\n",
       "      <th>7</th>\n",
       "      <td>[[especially, like, non-cliche, choice, parent, ;, movie, ,, could, predict, dialog, verbatim, ,, writing, movie, make, good, selection, .]]</td>\n",
       "    </tr>\n",
       "    <tr>\n",
       "      <th>8</th>\n",
       "      <td>[[brilliant, !]]</td>\n",
       "    </tr>\n",
       "  </tbody>\n",
       "</table>\n",
       "</div>"
      ],
      "text/plain": [
       "                                                                                                                                                                 cleaned_text\n",
       "0  [[know, sound, funny, ,, seem, like, sketchy, technology, would, n't, work, well, .], [well, ,, work, great, .]]                                                          \n",
       "1  [[whine, internet, ,, go, .], [more, use, thing, less, like, .]]                                                                                                          \n",
       "2  [[still, maintain, monkey, n't, make, headphone, ,, obviously, n't, share, enough, dna, copy, design, human, .], [thank, waste, money, !]]                                \n",
       "3  [[not, drain, player, ,, may, also, potentially, fry, .], [want, money, back, .]]                                                                                         \n",
       "4  [[massive, level, ,, massive, unlockable, character, ..., massive, game, .]]                                                                                              \n",
       "5  []                                                                                                                                                                        \n",
       "6  [[great, film, great, director, .], [movie, edge, seat, make, somewhat, afraid, go, car, end, night, .], [music, film, really, nice, .], ['d, advise, anyone, go, see, .]]\n",
       "7  [[especially, like, non-cliche, choice, parent, ;, movie, ,, could, predict, dialog, verbatim, ,, writing, movie, make, good, selection, .]]                              \n",
       "8  [[brilliant, !]]                                                                                                                                                          "
      ]
     },
     "execution_count": 23,
     "metadata": {},
     "output_type": "execute_result"
    }
   ],
   "source": [
    "df['cleaned_text'] = df['text'].apply(lambda x: text_processing_fn1(x))\n",
    "df[['cleaned_text']]"
   ]
  },
  {
   "cell_type": "markdown",
   "metadata": {},
   "source": [
    "The text data still contains punctuation and now some extra empty strings (where we removed stopwords). So let's remove these empty strings and the punctuation and also unflatten each list, so that we each text is a list of string sentences (as lemmas) instead of a list of lists of tokens. "
   ]
  },
  {
   "cell_type": "code",
   "execution_count": 24,
   "metadata": {
    "collapsed": true
   },
   "outputs": [],
   "source": [
    "text_processing_fn2 = combine_functions(flattenIrregularListOfLists,\n",
    "                                        remove_punctuation,\n",
    "                                        lambda x: list(filter(None, x)))   # a lambda function included on the fly\n",
    "\n",
    "df['cleaned_text'] = df['cleaned_text'].apply(lambda x: text_processing_fn2(x))"
   ]
  },
  {
   "cell_type": "code",
   "execution_count": 25,
   "metadata": {
    "scrolled": true
   },
   "outputs": [
    {
     "data": {
      "text/html": [
       "<div>\n",
       "<style scoped>\n",
       "    .dataframe tbody tr th:only-of-type {\n",
       "        vertical-align: middle;\n",
       "    }\n",
       "\n",
       "    .dataframe tbody tr th {\n",
       "        vertical-align: top;\n",
       "    }\n",
       "\n",
       "    .dataframe thead th {\n",
       "        text-align: right;\n",
       "    }\n",
       "</style>\n",
       "<table border=\"1\" class=\"dataframe\">\n",
       "  <thead>\n",
       "    <tr style=\"text-align: right;\">\n",
       "      <th></th>\n",
       "      <th>cleaned_text</th>\n",
       "    </tr>\n",
       "  </thead>\n",
       "  <tbody>\n",
       "    <tr>\n",
       "      <th>0</th>\n",
       "      <td>[know, sound, funny, seem, like, sketchy, technology, would, nt, work, well, well, work, great]</td>\n",
       "    </tr>\n",
       "    <tr>\n",
       "      <th>1</th>\n",
       "      <td>[whine, internet, go, more, use, thing, less, like]</td>\n",
       "    </tr>\n",
       "    <tr>\n",
       "      <th>2</th>\n",
       "      <td>[still, maintain, monkey, nt, make, headphone, obviously, nt, share, enough, dna, copy, design, human, thank, waste, money]</td>\n",
       "    </tr>\n",
       "    <tr>\n",
       "      <th>3</th>\n",
       "      <td>[not, drain, player, may, also, potentially, fry, want, money, back]</td>\n",
       "    </tr>\n",
       "    <tr>\n",
       "      <th>4</th>\n",
       "      <td>[massive, level, massive, unlockable, character, massive, game]</td>\n",
       "    </tr>\n",
       "    <tr>\n",
       "      <th>5</th>\n",
       "      <td>[]</td>\n",
       "    </tr>\n",
       "    <tr>\n",
       "      <th>6</th>\n",
       "      <td>[great, film, great, director, movie, edge, seat, make, somewhat, afraid, go, car, end, night, music, film, really, nice, d, advise, anyone, go, see]</td>\n",
       "    </tr>\n",
       "    <tr>\n",
       "      <th>7</th>\n",
       "      <td>[especially, like, noncliche, choice, parent, movie, could, predict, dialog, verbatim, writing, movie, make, good, selection]</td>\n",
       "    </tr>\n",
       "    <tr>\n",
       "      <th>8</th>\n",
       "      <td>[brilliant]</td>\n",
       "    </tr>\n",
       "  </tbody>\n",
       "</table>\n",
       "</div>"
      ],
      "text/plain": [
       "                                                                                                                                            cleaned_text\n",
       "0  [know, sound, funny, seem, like, sketchy, technology, would, nt, work, well, well, work, great]                                                      \n",
       "1  [whine, internet, go, more, use, thing, less, like]                                                                                                  \n",
       "2  [still, maintain, monkey, nt, make, headphone, obviously, nt, share, enough, dna, copy, design, human, thank, waste, money]                          \n",
       "3  [not, drain, player, may, also, potentially, fry, want, money, back]                                                                                 \n",
       "4  [massive, level, massive, unlockable, character, massive, game]                                                                                      \n",
       "5  []                                                                                                                                                   \n",
       "6  [great, film, great, director, movie, edge, seat, make, somewhat, afraid, go, car, end, night, music, film, really, nice, d, advise, anyone, go, see]\n",
       "7  [especially, like, noncliche, choice, parent, movie, could, predict, dialog, verbatim, writing, movie, make, good, selection]                        \n",
       "8  [brilliant]                                                                                                                                          "
      ]
     },
     "execution_count": 25,
     "metadata": {},
     "output_type": "execute_result"
    }
   ],
   "source": [
    "df[['cleaned_text']]"
   ]
  },
  {
   "cell_type": "markdown",
   "metadata": {},
   "source": [
    "#### Remove objective sentences\n",
    "\n",
    "Let's only keep those sentences within each text that are assessed as 'subjective' (using TexTBlob's subjectivity score)."
   ]
  },
  {
   "cell_type": "code",
   "execution_count": 26,
   "metadata": {},
   "outputs": [
    {
     "data": {
      "text/plain": [
       "0    [1.0, 0.75]              \n",
       "1    [0.0, 0.2833333333333333]\n",
       "2    [0.5, 0.0]               \n",
       "3    [1.0, 0.0]               \n",
       "4    [0.85]                   \n",
       "5    [nan]                    \n",
       "6    [0.75, 0.9, 1.0, 0.0]    \n",
       "7    [0.625]                  \n",
       "8    [1.0]                    \n",
       "Name: text, dtype: object"
      ]
     },
     "execution_count": 26,
     "metadata": {},
     "output_type": "execute_result"
    }
   ],
   "source": [
    "my_preprocessor1 = combine_functions(sent_tokenise, \n",
    "                                     lambda x : remove_objective_sents(x, 0.3),  #keep only sentences with subjectivity score > 0.3\n",
    "                                     list2string  # from list of lists to list of strings\n",
    "                                    )\n",
    "\n",
    "# Let's take a look at each sentence's subjectivity score first\n",
    "df['text'].apply(combine_functions(sent_tokenise, get_subjectivity))"
   ]
  },
  {
   "cell_type": "code",
   "execution_count": 27,
   "metadata": {},
   "outputs": [
    {
     "data": {
      "text/html": [
       "<div>\n",
       "<style scoped>\n",
       "    .dataframe tbody tr th:only-of-type {\n",
       "        vertical-align: middle;\n",
       "    }\n",
       "\n",
       "    .dataframe tbody tr th {\n",
       "        vertical-align: top;\n",
       "    }\n",
       "\n",
       "    .dataframe thead th {\n",
       "        text-align: right;\n",
       "    }\n",
       "</style>\n",
       "<table border=\"1\" class=\"dataframe\">\n",
       "  <thead>\n",
       "    <tr style=\"text-align: right;\">\n",
       "      <th></th>\n",
       "      <th>subj_text</th>\n",
       "    </tr>\n",
       "  </thead>\n",
       "  <tbody>\n",
       "    <tr>\n",
       "      <th>0</th>\n",
       "      <td>I know that sounds funny, but to me it seemed like sketchy technology that wouldn't work well. Well, this one works great.</td>\n",
       "    </tr>\n",
       "    <tr>\n",
       "      <th>1</th>\n",
       "      <td></td>\n",
       "    </tr>\n",
       "    <tr>\n",
       "      <th>2</th>\n",
       "      <td>I still maintain that monkeys shouldn't make headphones, we just obviously don't share enough DNA to copy the design over to humans.</td>\n",
       "    </tr>\n",
       "    <tr>\n",
       "      <th>3</th>\n",
       "      <td>Not only will it drain your player, but may also potentially fry it.</td>\n",
       "    </tr>\n",
       "    <tr>\n",
       "      <th>4</th>\n",
       "      <td>There are massive levels, massive unlockable characters... it's just a massive game.</td>\n",
       "    </tr>\n",
       "    <tr>\n",
       "      <th>5</th>\n",
       "      <td></td>\n",
       "    </tr>\n",
       "    <tr>\n",
       "      <th>6</th>\n",
       "      <td>A great film by a great director. The movie had you on the edge of your seat and made you somewhat afraid to go to your car at the end of the night. The music in the film is really nice too.</td>\n",
       "    </tr>\n",
       "    <tr>\n",
       "      <th>7</th>\n",
       "      <td>I especially liked the non-cliche choices with the parents; in other movies, I could predict the dialog verbatim, but the writing in this movie made better selections.</td>\n",
       "    </tr>\n",
       "    <tr>\n",
       "      <th>8</th>\n",
       "      <td>Brilliant!</td>\n",
       "    </tr>\n",
       "  </tbody>\n",
       "</table>\n",
       "</div>"
      ],
      "text/plain": [
       "                                                                                                                                                                                        subj_text\n",
       "0  I know that sounds funny, but to me it seemed like sketchy technology that wouldn't work well. Well, this one works great.                                                                    \n",
       "1                                                                                                                                                                                                \n",
       "2  I still maintain that monkeys shouldn't make headphones, we just obviously don't share enough DNA to copy the design over to humans.                                                          \n",
       "3  Not only will it drain your player, but may also potentially fry it.                                                                                                                          \n",
       "4  There are massive levels, massive unlockable characters... it's just a massive game.                                                                                                          \n",
       "5                                                                                                                                                                                                \n",
       "6  A great film by a great director. The movie had you on the edge of your seat and made you somewhat afraid to go to your car at the end of the night. The music in the film is really nice too.\n",
       "7  I especially liked the non-cliche choices with the parents; in other movies, I could predict the dialog verbatim, but the writing in this movie made better selections.                       \n",
       "8  Brilliant!                                                                                                                                                                                    "
      ]
     },
     "execution_count": 27,
     "metadata": {},
     "output_type": "execute_result"
    }
   ],
   "source": [
    "df['subj_text'] = df['text'].apply(my_preprocessor1)\n",
    "\n",
    "df[['subj_text']]"
   ]
  },
  {
   "cell_type": "markdown",
   "metadata": {},
   "source": [
    "#### Count the occurrances of a specific Part-Of-Speech in the text \n",
    "\n",
    "The function ```count_pos()``` requires a list of (token, POS_tag) tuples as input"
   ]
  },
  {
   "cell_type": "code",
   "execution_count": 28,
   "metadata": {},
   "outputs": [
    {
     "data": {
      "text/plain": [
       "0    3.0\n",
       "1    2.0\n",
       "2    1.0\n",
       "3    0.0\n",
       "4    4.0\n",
       "5   NaN \n",
       "6    3.0\n",
       "7    3.0\n",
       "8    0.0\n",
       "Name: text, dtype: float64"
      ]
     },
     "execution_count": 28,
     "metadata": {},
     "output_type": "execute_result"
    }
   ],
   "source": [
    "count_adj = combine_functions(sent_tokenise\n",
    "                                       ,word_tokenise\n",
    "                                       ,POS_tagging\n",
    "                                       ,lambda x: count_pos(x, pos_to_cnt='J', normalise=False)\n",
    "                                       )   \n",
    "\n",
    "df['text'].apply(count_adj)"
   ]
  },
  {
   "cell_type": "markdown",
   "metadata": {},
   "source": [
    "## Applying chained functions to strings and save results in a pd.Series\n",
    "\n",
    "```combine_functions()``` can also be applied o strings, and then turn the results into a pandas.Series with the function ```output_series()```"
   ]
  },
  {
   "cell_type": "code",
   "execution_count": 29,
   "metadata": {},
   "outputs": [
    {
     "data": {
      "text/plain": [
       "outcome    [[[love, cabbage, .], [not, big, sprout]], [[neither, .]], [[please, agree, .]]]\n",
       "dtype: object"
      ]
     },
     "execution_count": 29,
     "metadata": {},
     "output_type": "execute_result"
    }
   ],
   "source": [
    "output_series( [text_processing_fn1(text) for text in ['I love cabbage. But I am not big on sprouts', 'Me neither.', 'I am please we agree.']])\n"
   ]
  },
  {
   "cell_type": "code",
   "execution_count": 30,
   "metadata": {},
   "outputs": [
    {
     "data": {
      "text/plain": [
       "<function nlpbumblebee.utils.combine_2fs.<locals>.<lambda>>"
      ]
     },
     "execution_count": 30,
     "metadata": {},
     "output_type": "execute_result"
    }
   ],
   "source": [
    "combine_functions_output_series(text_processing_fn1('I love cabbage'))"
   ]
  },
  {
   "cell_type": "markdown",
   "metadata": {},
   "source": [
    "### Series-output decorator\n",
    "series_output\n"
   ]
  },
  {
   "cell_type": "code",
   "execution_count": 2,
   "metadata": {
    "collapsed": true
   },
   "outputs": [],
   "source": [
    "#TODO"
   ]
  }
 ],
 "metadata": {
  "kernelspec": {
   "display_name": "Python 3",
   "language": "python",
   "name": "python3"
  },
  "language_info": {
   "codemirror_mode": {
    "name": "ipython",
    "version": 3
   },
   "file_extension": ".py",
   "mimetype": "text/x-python",
   "name": "python",
   "nbconvert_exporter": "python",
   "pygments_lexer": "ipython3",
   "version": "3.6.3"
  }
 },
 "nbformat": 4,
 "nbformat_minor": 2
}
